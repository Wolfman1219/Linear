{
  "nbformat": 4,
  "nbformat_minor": 0,
  "metadata": {
    "colab": {
      "name": "Untitled6.ipynb",
      "private_outputs": true,
      "provenance": [],
      "authorship_tag": "ABX9TyP8jknpfHO4u4F55cyqvQyJ",
      "include_colab_link": true
    },
    "kernelspec": {
      "name": "python3",
      "display_name": "Python 3"
    },
    "language_info": {
      "name": "python"
    }
  },
  "cells": [
    {
      "cell_type": "markdown",
      "metadata": {
        "id": "view-in-github",
        "colab_type": "text"
      },
      "source": [
        "<a href=\"https://colab.research.google.com/github/Wolfman1219/Linear/blob/main/Pytorch_yordamida.ipynb\" target=\"_parent\"><img src=\"https://colab.research.google.com/assets/colab-badge.svg\" alt=\"Open In Colab\"/></a>"
      ]
    },
    {
      "cell_type": "code",
      "metadata": {
        "id": "tdrSj-hR5Ocz"
      },
      "source": [
        "import numpy as np\n",
        "import torch"
      ],
      "execution_count": null,
      "outputs": []
    },
    {
      "cell_type": "code",
      "metadata": {
        "id": "RqNHZ_Vg5TiU"
      },
      "source": [
        "y_data = np.array([2.0, 4.0, 6.0, 8.0, 10.0, 12.0, 14.0, 16.0, 18.0, 20.0])\n",
        "x_data = np.array([1.0, 2.0, 3.0, 4.0, 5.0, 6.0, 7.0, 8.0, 9.0, 10.0])"
      ],
      "execution_count": null,
      "outputs": []
    },
    {
      "cell_type": "code",
      "metadata": {
        "id": "Xa1BIQ3s5c9b"
      },
      "source": [
        "def forward(x):\n",
        "  return x*w \n",
        "def loss(x, y):\n",
        "  y_bash = forward(x)\n",
        "  return (y_bash - y)**2"
      ],
      "execution_count": null,
      "outputs": []
    },
    {
      "cell_type": "code",
      "metadata": {
        "id": "CZjRg03A56y1"
      },
      "source": [
        "w = 100\n",
        "lr = 0.01\n",
        "for epoch in range(50):\n",
        "    for x,y in zip(x_data,y_data):\n",
        "        y_bash = forward(x)\n",
        "        xato = loss(x,y)\n",
        "        print(f\"Gradient : {x},{y} - {2 * x * (y_bash - y)}\")\n",
        "        w = w - 2 * lr * x * (y_bash - y)\n",
        "    print(f\"Epoch-{epoch} | Xatolik : {xato} | W = {w}\")\n",
        "print(\"Model = \", w)\n",
        "print(\"Python\")"
      ],
      "execution_count": null,
      "outputs": []
    },
    {
      "cell_type": "code",
      "metadata": {
        "id": "nXfHqfE_rjEM"
      },
      "source": [
        "w = torch.tensor([1.], requires_grad=True)\n",
        "lr = 0.01\n",
        "\n",
        "for epoch in range(15):\n",
        "  for x,y in zip(x_data, y_data):\n",
        "    xato = (x * w - y) ** 2\n",
        "    xato.backward()\n",
        "    print(f\"Grad: {x} , {y} -{w.grad.item()}\")\n",
        "    w.data = w.data - lr * w.grad.item()\n",
        "    w.grad.data.zero_()\n",
        "  print(f\"Epoch - {epoch} | Loss:{xato.item()} W = {w.item()}\")\n",
        "print(\"Model: \", w.item())\n",
        "print(\"Pytorch\")\n",
        "\n"
      ],
      "execution_count": null,
      "outputs": []
    },
    {
      "cell_type": "code",
      "metadata": {
        "id": "ffSXXbynukvy"
      },
      "source": [
        "w.grad.data.zero_()\n",
        "print(w)"
      ],
      "execution_count": null,
      "outputs": []
    },
    {
      "cell_type": "code",
      "metadata": {
        "id": "HcWtHdvKzLrc"
      },
      "source": [
        "x_data = torch.tensor([[1.0],\n",
        "                       [2.0],\n",
        "                       [3.0]])\n",
        "y_data = torch.tensor([[2.0],\n",
        "                      [4.0],\n",
        "                      [6.0]])\n",
        "class Model(torch.nn.Module):\n",
        "  def __init__(self):\n",
        "    super().__init__()\n",
        "    self.linear = torch.nn.Linear(1,1)\n",
        "  def forward(self, x):\n",
        "    y_bash = self.linear(x)\n",
        "    return y_bash\n",
        "model = Model()\n",
        "criterion = torch.nn.MSELoss(reduction = 'sum')\n",
        "optimize = torch.optim.SGD(model.parameters(), lr = 0.01)\n",
        "for epoch in range(1000):\n",
        "  y_bash = model(x_data)\n",
        "  xato = criterion(y_bash, y_data)\n",
        "  print(f\"Epoch {epoch} | Xato : {xato.item()}\")\n",
        "  optimize.zero_grad()\n",
        "  xato.backward()\n",
        "  optimize.step()\n",
        "print(model.forward(torch.tensor([9.0])))"
      ],
      "execution_count": null,
      "outputs": []
    },
    {
      "cell_type": "code",
      "metadata": {
        "id": "XSK0_WfY6b3W"
      },
      "source": [
        "x_data = torch.tensor([[1.0],\n",
        "                       [2.0],\n",
        "                       [3.0],\n",
        "                       [4.0]])\n",
        "y_data = torch.tensor([[0.0],\n",
        "                       [0.0],\n",
        "                       [1.0],\n",
        "                       [1.0]])\n",
        "class Model(torch.nn.Module):\n",
        "  def __init__(self):\n",
        "    super().__init__()\n",
        "    self.linear = torch.nn.Linear(1, 1)\n",
        "    self.sigmoid = torch.nn.Sigmoid()\n",
        "  def forward(self, x):\n",
        "    y_bash = self.sigmoid(self.linear(x))\n",
        "    return y_bash\n",
        "\n",
        "\n",
        "model = Model()\n",
        "\n",
        "criterion =  torch.nn.BCELoss(reduction = 'mean')\n",
        "optimize = torch.optim.SGD(model.parameters(), lr = 0.01)\n",
        "\n",
        "for epoch in range(1000):\n",
        "  y_bash =model(x_data)\n",
        "  xato = criterion(y_bash, y_data)\n",
        "  print(f\"Epoch: {epoch}| Xato: {xato.item()}\")\n",
        "  optimize.zero_grad()\n",
        "  xato.backward()\n",
        "  optimize.step()\n",
        "print(model.forward(torch.tensor([3.0])))\n",
        "\n"
      ],
      "execution_count": null,
      "outputs": []
    },
    {
      "cell_type": "code",
      "metadata": {
        "id": "K8NkEF3AN3S4"
      },
      "source": [
        ""
      ],
      "execution_count": null,
      "outputs": []
    }
  ]
}
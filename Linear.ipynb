{
  "nbformat": 4,
  "nbformat_minor": 0,
  "metadata": {
    "colab": {
      "name": "Linear.ipynb",
      "private_outputs": true,
      "provenance": [],
      "authorship_tag": "ABX9TyMPttYDL1fPJU80KNgzHMCS",
      "include_colab_link": true
    },
    "kernelspec": {
      "name": "python3",
      "display_name": "Python 3"
    },
    "language_info": {
      "name": "python"
    }
  },
  "cells": [
    {
      "cell_type": "markdown",
      "metadata": {
        "id": "view-in-github",
        "colab_type": "text"
      },
      "source": [
        "<a href=\"https://colab.research.google.com/github/Wolfman1219/Linear/blob/main/Linear.ipynb\" target=\"_parent\"><img src=\"https://colab.research.google.com/assets/colab-badge.svg\" alt=\"Open In Colab\"/></a>"
      ]
    },
    {
      "cell_type": "code",
      "metadata": {
        "id": "NRn0hl2elJmX"
      },
      "source": [
        "import matplotlib.pyplot as plt\n",
        "import numpy as np"
      ],
      "execution_count": null,
      "outputs": []
    },
    {
      "cell_type": "code",
      "metadata": {
        "id": "6kBDBbVOmL5Z"
      },
      "source": [
        "y_joyi = np.array([33.8, 35.6, 37.4, 39.2, 41.0, 42.8, 44.6, 46.4, 48.2, 50.0])\n",
        "x_joyi = np.array([1.0, 2.0, 3.0, 4.0, 5.0, 6.0, 7.0, 8.0, 9.0, 10.0])\n",
        "plt.plot(y_joyi, x_joyi)"
      ],
      "execution_count": null,
      "outputs": []
    },
    {
      "cell_type": "code",
      "metadata": {
        "id": "O3m4AZWYnnGm"
      },
      "source": [
        "def forward(x):\n",
        "  #selsiy va farengeyt o'rtasida chiziqli bog'lanish borligi uchun 2 ta koeffitsiyent yetarli\n",
        "  return x * w + b\n",
        "def loss(x, y):\n",
        "  y_bashorat = forward(x)\n",
        "  return (y_bashorat - y) ** 2\n"
      ],
      "execution_count": null,
      "outputs": []
    },
    {
      "cell_type": "code",
      "metadata": {
        "id": "KZSbH_F3opII"
      },
      "source": [
        "wlar = []\n",
        "xatolik = []\n",
        "ham ={}\n",
        "for w in np.arange(1.0, 4, 0.1):\n",
        "  for b in range(0, 100):\n",
        "    umum_x = 0\n",
        "    for i, j in zip(x_joyi, y_joyi):\n",
        "      #i_bashorat = forward(i)\n",
        "      xato = loss(i, j)\n",
        "      umum_x += xato\n",
        "    \n",
        "    #xatoliklarni mos koeffitsiyentlar bilan saqlash\n",
        "    ham.update({umum_x/len(x_joyi):[w, b]})\n",
        "    xatolik.append(umum_x/len(x_joyi))"
      ],
      "execution_count": null,
      "outputs": []
    },
    {
      "cell_type": "code",
      "metadata": {
        "id": "yh5Xpk-9qfQu"
      },
      "source": [
        "print('dasturning minimal ishlash xatoligi--> ', min(xatolik))\n",
        "print(f'funksiyaning ko\\'rinishi-->F = {ham[min(xatolik)][0]}*x + {ham[min(xatolik)][1]}' )\n",
        "for i in range(5):\n",
        "  n = float(input('Farengeytga utkazmoqchi bolgan sonni kiriting--->'))\n",
        "  print(ham[min(xatolik)][0] * n +ham[min(xatolik)][1],\" F\")"
      ],
      "execution_count": null,
      "outputs": []
    }
  ]
}